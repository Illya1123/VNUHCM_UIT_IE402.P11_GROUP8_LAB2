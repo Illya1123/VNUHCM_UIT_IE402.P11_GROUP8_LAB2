{
 "cells": [
  {
   "cell_type": "code",
   "execution_count": 303,
   "metadata": {},
   "outputs": [],
   "source": [
    "import math"
   ]
  },
  {
   "cell_type": "markdown",
   "metadata": {},
   "source": [
    "### Tọa độ ban đầu và tọa độ điểm đích"
   ]
  },
  {
   "cell_type": "code",
   "execution_count": 304,
   "metadata": {},
   "outputs": [],
   "source": [
    "input1 = [106.70330904568287, 10.776628724264523]\n",
    "input2 = [106.7031292219102, 10.776790501262289]"
   ]
  },
  {
   "cell_type": "code",
   "execution_count": 305,
   "metadata": {},
   "outputs": [],
   "source": [
    "lon1 = input1[0]\n",
    "lat1 = input1[1]\n",
    "lon2 = input2[0]\n",
    "lat2 = input2[1]"
   ]
  },
  {
   "cell_type": "markdown",
   "metadata": {},
   "source": [
    "### hàm tính khoảng cách"
   ]
  },
  {
   "cell_type": "code",
   "execution_count": 306,
   "metadata": {},
   "outputs": [],
   "source": [
    "def haversine(lat1, lon1, lat2, lon2):\n",
    "    # Bán kính trái đất (đơn vị: km)\n",
    "    R = 6371.0\n",
    "\n",
    "    # Chuyển độ sang radian\n",
    "    lat1, lon1, lat2, lon2 = map(math.radians, [lat1, lon1, lat2, lon2])\n",
    "\n",
    "    # Tính sự thay đổi giữa các điểm\n",
    "    delta_lat = lat2 - lat1\n",
    "    delta_lon = lon2 - lon1\n",
    "\n",
    "    # Áp dụng công thức Haversine\n",
    "    a = math.sin(delta_lat / 2)**2 + math.cos(lat1) * math.cos(lat2) * math.sin(delta_lon / 2)**2\n",
    "    c = 2 * math.atan2(math.sqrt(a), math.sqrt(1 - a))\n",
    "\n",
    "    # Khoảng cách giữa hai điểm (đơn vị: km)\n",
    "    distance = R * c\n",
    "    return distance\n"
   ]
  },
  {
   "cell_type": "markdown",
   "metadata": {},
   "source": [
    "### tính khoảng cách"
   ]
  },
  {
   "cell_type": "code",
   "execution_count": 307,
   "metadata": {},
   "outputs": [],
   "source": [
    "distance = haversine(lat1, lon1, lat2, lon2)"
   ]
  },
  {
   "cell_type": "markdown",
   "metadata": {},
   "source": [
    "### Đổi các tọa độ từ độ sang radian"
   ]
  },
  {
   "cell_type": "code",
   "execution_count": 308,
   "metadata": {},
   "outputs": [],
   "source": [
    "lon1, lat1, lon2, lat2 = map(math.radians, [lon1, lat1, lon2, lat2])\n"
   ]
  },
  {
   "cell_type": "markdown",
   "metadata": {},
   "source": [
    "### Tính toán sự chênh lệch kinh độ và vĩ độ"
   ]
  },
  {
   "cell_type": "code",
   "execution_count": 309,
   "metadata": {},
   "outputs": [],
   "source": [
    "delta_lon = lon2 - lon1\n",
    "delta_lat = lat2 - lat1"
   ]
  },
  {
   "cell_type": "markdown",
   "metadata": {},
   "source": [
    "### Tính góc so với hướng Bắc (đổi sang độ)"
   ]
  },
  {
   "cell_type": "code",
   "execution_count": 310,
   "metadata": {},
   "outputs": [],
   "source": [
    "angle_radians = math.atan2(delta_lon, delta_lat)\n",
    "angle_degrees = math.degrees(angle_radians)"
   ]
  },
  {
   "cell_type": "code",
   "execution_count": 311,
   "metadata": {},
   "outputs": [
    {
     "name": "stdout",
     "output_type": "stream",
     "text": [
      "Góc giữa hai điểm là 311.98 độ\n",
      "Khoảng cách giữa hai điểm là 26.64 m\n"
     ]
    }
   ],
   "source": [
    "if angle_degrees < 0:\n",
    "    angle_degrees += 360\n",
    "\n",
    "print(f\"Góc giữa hai điểm là {angle_degrees:.2f} độ\")\n",
    "print(f\"Khoảng cách giữa hai điểm là {distance*1000:.2f} m\")"
   ]
  },
  {
   "cell_type": "code",
   "execution_count": null,
   "metadata": {},
   "outputs": [],
   "source": []
  }
 ],
 "metadata": {
  "kernelspec": {
   "display_name": "Python 3",
   "language": "python",
   "name": "python3"
  },
  "language_info": {
   "codemirror_mode": {
    "name": "ipython",
    "version": 3
   },
   "file_extension": ".py",
   "mimetype": "text/x-python",
   "name": "python",
   "nbconvert_exporter": "python",
   "pygments_lexer": "ipython3",
   "version": "3.12.6"
  }
 },
 "nbformat": 4,
 "nbformat_minor": 2
}
