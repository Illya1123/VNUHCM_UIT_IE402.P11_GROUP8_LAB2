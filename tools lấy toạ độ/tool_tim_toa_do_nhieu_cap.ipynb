{
 "cells": [
  {
   "cell_type": "code",
   "execution_count": 1809,
   "metadata": {},
   "outputs": [],
   "source": [
    "import math"
   ]
  },
  {
   "cell_type": "code",
   "execution_count": 1810,
   "metadata": {},
   "outputs": [],
   "source": [
    "input_list = [                    \n",
    "    [106.7030390686, 10.7765209782, 23]\n",
    "]"
   ]
  },
  {
   "cell_type": "code",
   "execution_count": 1811,
   "metadata": {},
   "outputs": [],
   "source": [
    "distance = 5\n",
    "angle_degrees = 43.37\n",
    "R = 6371000  \n"
   ]
  },
  {
   "cell_type": "code",
   "execution_count": 1812,
   "metadata": {},
   "outputs": [],
   "source": [
    "angle_radians = math.radians(angle_degrees)"
   ]
  },
  {
   "cell_type": "code",
   "execution_count": 1813,
   "metadata": {},
   "outputs": [],
   "source": [
    "def calculate_new_coords(lon1, lat1, z, distance, angle_radians, R):\n",
    "    delta_lat = (distance / R) * math.cos(angle_radians)\n",
    "    delta_lon = (distance / R) * math.sin(angle_radians)\n",
    "    lat2 = lat1 + math.degrees(delta_lat)\n",
    "    lon2 = lon1 + math.degrees(delta_lon)\n",
    "    return [lon2, lat2, z]"
   ]
  },
  {
   "cell_type": "code",
   "execution_count": 1814,
   "metadata": {},
   "outputs": [
    {
     "data": {
      "text/plain": [
       "[[106.70306994712135, 10.776553665587432, 23]]"
      ]
     },
     "execution_count": 1814,
     "metadata": {},
     "output_type": "execute_result"
    }
   ],
   "source": [
    "output_list = [calculate_new_coords(lon, lat, z, distance, angle_radians, R) for lon, lat, z in input_list]\n",
    "\n",
    "output_list"
   ]
  }
 ],
 "metadata": {
  "kernelspec": {
   "display_name": "Python 3",
   "language": "python",
   "name": "python3"
  },
  "language_info": {
   "codemirror_mode": {
    "name": "ipython",
    "version": 3
   },
   "file_extension": ".py",
   "mimetype": "text/x-python",
   "name": "python",
   "nbconvert_exporter": "python",
   "pygments_lexer": "ipython3",
   "version": "3.12.6"
  }
 },
 "nbformat": 4,
 "nbformat_minor": 2
}
