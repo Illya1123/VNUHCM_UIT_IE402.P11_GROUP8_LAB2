{
 "cells": [
  {
   "cell_type": "code",
   "execution_count": 55,
   "metadata": {},
   "outputs": [],
   "source": [
    "import math"
   ]
  },
  {
   "cell_type": "code",
   "execution_count": null,
   "metadata": {},
   "outputs": [],
   "source": [
    "input_list = [\n",
    "[106.7030861019589, 10.776741839509347, 13.41],\n",
    "[106.70309739547217, 10.776754056763169, 13.41],\n",
    "[106.70310320692263, 10.776748684713615, 13.41],\n",
    "[106.70309191340937, 10.776736467459793, 13.41]\n",
    "]"
   ]
  },
  {
   "cell_type": "code",
   "execution_count": null,
   "metadata": {},
   "outputs": [],
   "source": [
    "distance = 3.66\n",
    "angle_degrees = 311.97\n",
    "R = 6371000  \n"
   ]
  },
  {
   "cell_type": "code",
   "execution_count": 58,
   "metadata": {},
   "outputs": [],
   "source": [
    "angle_radians = math.radians(angle_degrees)"
   ]
  },
  {
   "cell_type": "code",
   "execution_count": 59,
   "metadata": {},
   "outputs": [],
   "source": [
    "def calculate_new_coords(lon1, lat1, z, distance, angle_radians, R):\n",
    "    delta_lat = (distance / R) * math.cos(angle_radians)\n",
    "    delta_lon = (distance / R) * math.sin(angle_radians)\n",
    "    lat2 = lat1 + math.degrees(delta_lat)\n",
    "    lon2 = lon1 + math.degrees(delta_lon)\n",
    "    return [lon2, lat2, z]"
   ]
  },
  {
   "cell_type": "code",
   "execution_count": 60,
   "metadata": {},
   "outputs": [
    {
     "data": {
      "text/plain": [
       "[[106.70311981844311, 10.776778275504267, 13.41],\n",
       " [106.70313111195638, 10.776790492758089, 13.41],\n",
       " [106.70313692340684, 10.776785120708535, 13.41],\n",
       " [106.70312562989358, 10.776772903454713, 13.41]]"
      ]
     },
     "execution_count": 60,
     "metadata": {},
     "output_type": "execute_result"
    }
   ],
   "source": [
    "output_list = [calculate_new_coords(lon, lat, z, distance, angle_radians, R) for lon, lat, z in input_list]\n",
    "\n",
    "output_list"
   ]
  }
 ],
 "metadata": {
  "kernelspec": {
   "display_name": ".venv",
   "language": "python",
   "name": "python3"
  },
  "language_info": {
   "codemirror_mode": {
    "name": "ipython",
    "version": 3
   },
   "file_extension": ".py",
   "mimetype": "text/x-python",
   "name": "python",
   "nbconvert_exporter": "python",
   "pygments_lexer": "ipython3",
   "version": "3.10.12"
  }
 },
 "nbformat": 4,
 "nbformat_minor": 2
}
