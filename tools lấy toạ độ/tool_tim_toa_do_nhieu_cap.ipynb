{
 "cells": [
  {
   "cell_type": "code",
   "execution_count": 31,
   "metadata": {},
   "outputs": [],
   "source": [
    "import math"
   ]
  },
  {
   "cell_type": "code",
   "execution_count": 32,
   "metadata": {},
   "outputs": [],
   "source": [
    "input_list = [\n",
    "                    [106.70326284442565, 10.77692879918967, 14.82],\n",
    "                    [106.7031286500888, 10.77678668718271, 14.82]\n",
    "]"
   ]
  },
  {
   "cell_type": "code",
   "execution_count": null,
   "metadata": {},
   "outputs": [],
   "source": [
    "distance = 1.1\n",
    "angle_degrees = 133.36\n",
    "R = 6371000  \n"
   ]
  },
  {
   "cell_type": "code",
   "execution_count": 34,
   "metadata": {},
   "outputs": [],
   "source": [
    "angle_radians = math.radians(angle_degrees)"
   ]
  },
  {
   "cell_type": "code",
   "execution_count": 35,
   "metadata": {},
   "outputs": [],
   "source": [
    "def calculate_new_coords(lon1, lat1, z, distance, angle_radians, R):\n",
    "    delta_lat = (distance / R) * math.cos(angle_radians)\n",
    "    delta_lon = (distance / R) * math.sin(angle_radians)\n",
    "    lat2 = lat1 + math.degrees(delta_lat)\n",
    "    lon2 = lon1 + math.degrees(delta_lon)\n",
    "    return [lon2, lat2, z]"
   ]
  },
  {
   "cell_type": "code",
   "execution_count": 36,
   "metadata": {},
   "outputs": [
    {
     "data": {
      "text/plain": [
       "[[106.70327069069195, 10.776921389713868, 14.82],\n",
       " [106.7031364963551, 10.776779277706908, 14.82]]"
      ]
     },
     "execution_count": 36,
     "metadata": {},
     "output_type": "execute_result"
    }
   ],
   "source": [
    "output_list = [calculate_new_coords(lon, lat, z, distance, angle_radians, R) for lon, lat, z in input_list]\n",
    "\n",
    "output_list"
   ]
  }
 ],
 "metadata": {
  "kernelspec": {
   "display_name": "Python 3",
   "language": "python",
   "name": "python3"
  },
  "language_info": {
   "codemirror_mode": {
    "name": "ipython",
    "version": 3
   },
   "file_extension": ".py",
   "mimetype": "text/x-python",
   "name": "python",
   "nbconvert_exporter": "python",
   "pygments_lexer": "ipython3",
   "version": "3.12.6"
  }
 },
 "nbformat": 4,
 "nbformat_minor": 2
}
