{
 "cells": [
  {
   "cell_type": "code",
   "execution_count": 25,
   "metadata": {},
   "outputs": [],
   "source": [
    "import math"
   ]
  },
  {
   "cell_type": "markdown",
   "metadata": {},
   "source": [
    "# Nhập tọa độ gốc"
   ]
  },
  {
   "cell_type": "code",
   "execution_count": 26,
   "metadata": {},
   "outputs": [],
   "source": [
    "input_list = [106.70307075018246, 10.776721203017308]"
   ]
  },
  {
   "cell_type": "markdown",
   "metadata": {},
   "source": [
    "# tách chuỗi và gán lại cho từng biến"
   ]
  },
  {
   "cell_type": "code",
   "execution_count": 27,
   "metadata": {},
   "outputs": [],
   "source": [
    "lon1 = input_list[0]\n",
    "lat1 = input_list[1]"
   ]
  },
  {
   "cell_type": "markdown",
   "metadata": {},
   "source": [
    "# Khoảng cách và hướng"
   ]
  },
  {
   "cell_type": "markdown",
   "metadata": {},
   "source": [
    "- bên phải tính : 311.98\n",
    "- bên trái tính: 131.98\n",
    "- dọc hướng lên bên phải: 42.75\n",
    "- dọc hướng lên bên trái: 42.77\n",
    "- dọc hướng xuống : 221\n",
    "- dày tường: 0.26\n",
    "- từ vách vào tường cao: 3.58\n",
    "- tường cao 14.49\n",
    "- khoảng cách cột: 4.23\n",
    "- ngang cột 1.29:\n",
    "- đầu cuối bên phải: 17.85\n",
    "- vách tường đến cột: 0.6\n",
    "- chân cột dày thêm 0.1\n",
    "- tịnh tiến cột: 1.29 + 3.1725 = 5.52\n",
    "- chân cột cao: 0.36\n",
    "- trên chân cột: 0.36"
   ]
  },
  {
   "cell_type": "code",
   "execution_count": 28,
   "metadata": {},
   "outputs": [],
   "source": [
    "distance = 8  # mét\n",
    "angle_degrees = 132.75 # độ"
   ]
  },
  {
   "cell_type": "code",
   "execution_count": 29,
   "metadata": {},
   "outputs": [],
   "source": [
    "# Bán kính trái đất (m)\n",
    "R = 6371000"
   ]
  },
  {
   "cell_type": "markdown",
   "metadata": {},
   "source": [
    "# Chuyển hướng từ độ sang radian"
   ]
  },
  {
   "cell_type": "code",
   "execution_count": 30,
   "metadata": {},
   "outputs": [],
   "source": [
    "angle_radians = math.radians(angle_degrees)"
   ]
  },
  {
   "cell_type": "markdown",
   "metadata": {},
   "source": [
    "# Tính sự thay đổi về vĩ độ và kinh độ"
   ]
  },
  {
   "cell_type": "code",
   "execution_count": 31,
   "metadata": {},
   "outputs": [],
   "source": [
    "delta_lat = (distance / R) * math.cos(angle_radians)\n",
    "delta_lon = (distance / R) * math.sin(angle_radians)"
   ]
  },
  {
   "cell_type": "markdown",
   "metadata": {},
   "source": [
    "# Tọa độ mới"
   ]
  },
  {
   "cell_type": "code",
   "execution_count": 32,
   "metadata": {},
   "outputs": [
    {
     "data": {
      "text/plain": [
       "[106.70312358155034, 10.776672366203183]"
      ]
     },
     "execution_count": 32,
     "metadata": {},
     "output_type": "execute_result"
    }
   ],
   "source": [
    "\n",
    "lat2 = lat1 + math.degrees(delta_lat)\n",
    "lon2 = lon1 + math.degrees(delta_lon)\n",
    "\n",
    "[lon2, lat2]"
   ]
  }
 ],
 "metadata": {
  "kernelspec": {
   "display_name": ".venv",
   "language": "python",
   "name": "python3"
  },
  "language_info": {
   "codemirror_mode": {
    "name": "ipython",
    "version": 3
   },
   "file_extension": ".py",
   "mimetype": "text/x-python",
   "name": "python",
   "nbconvert_exporter": "python",
   "pygments_lexer": "ipython3",
   "version": "3.10.12"
  }
 },
 "nbformat": 4,
 "nbformat_minor": 2
}
